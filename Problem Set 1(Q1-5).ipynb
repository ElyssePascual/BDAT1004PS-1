{
 "cells": [
  {
   "cell_type": "code",
   "execution_count": 5,
   "id": "0dd320e1",
   "metadata": {},
   "outputs": [
    {
     "name": "stdout",
     "output_type": "stream",
     "text": [
      "Hello World\r\n"
     ]
    }
   ],
   "source": [
    "//Question 1\n",
    "\n",
    "Console.WriteLine(\"Hello World\");"
   ]
  },
  {
   "cell_type": "code",
   "execution_count": 7,
   "id": "5fe854aa",
   "metadata": {},
   "outputs": [
    {
     "name": "stdout",
     "output_type": "stream",
     "text": [
      "34\n",
      "ice is inside Supercalifragilisticexpialidocious\n",
      "Bababadalgharaghtakamminarronnkonn is the longest\n",
      "Buxtehude\n"
     ]
    }
   ],
   "source": [
    "//Question 2\n",
    "//a\n",
    "string s1 = \"Supercalifragilisticexpialidocious\";\n",
    "string s2 = \"Honorificabilitudinitatibus\";\n",
    "string s3 = \"Bababadalgharaghtakamminarronnkonn\";\n",
    "\n",
    "Console.WriteLine(s1.Length);\n",
    "\n",
    "//b\n",
    "string sub = \"ice\";\n",
    "if (s1.Contains(sub) == true)\n",
    "    Console.WriteLine(\"{0} is inside {1}\", sub, s1);\n",
    "else\n",
    "    Console.WriteLine(\"{0} is not inside {1}\", sub, s1);\n",
    "\n",
    "//c\n",
    "if (s1.Length > s3.Length){\n",
    "    if (s1.Length > s3.Length)\n",
    "        Console.WriteLine(\"{0} is the longest\", s1);\n",
    "    else\n",
    "        Console.WriteLine(\"{0} is the longest\", s3);\n",
    "\n",
    "}\n",
    "\n",
    "else{\n",
    "    if (s1.Length > s3.Length)\n",
    "        Console.WriteLine(\"{0} is the longest\", s2);\n",
    "    else \n",
    "        Console.WriteLine(\"{0} is the longest\", s3);\n",
    "}\n",
    "\n",
    "//d\n",
    "var names = new SortedSet<string>();\n",
    "    names.Add(\"Berlioz\");\n",
    "    names.Add(\"Borodin\");\n",
    "    names.Add(\"Brian\");\n",
    "    names.Add(\"Bartok\");\n",
    "    names.Add(\"Bellini\");\n",
    "    names.Add(\"Buxtehude\");\n",
    "    names.Add(\"Bernstein\");\n",
    "\n",
    "Console.WriteLine(names.Max);\n",
    "\n",
    "    \n",
    "\n",
    "\n"
   ]
  },
  {
   "cell_type": "code",
   "execution_count": 8,
   "id": "0f4dbcdc",
   "metadata": {},
   "outputs": [],
   "source": [
    "//Question 3\n",
    "using System;\n",
    "\n",
    "class myFunction\n",
    "{\n",
    "    public void triangleArea(double a, double b, double c)\n",
    "    {\n",
    "        double s = (a+b+c)/2;\n",
    "        double area = Math.Sqrt(s*(s-a)*(s-b)*(s-c));\n",
    "        \n",
    "        Console.WriteLine(area);\n",
    "    }\n",
    "}"
   ]
  },
  {
   "cell_type": "code",
   "execution_count": 9,
   "id": "27163531",
   "metadata": {},
   "outputs": [
    {
     "name": "stdout",
     "output_type": "stream",
     "text": [
      "1.7320508075688772\r\n"
     ]
    }
   ],
   "source": [
    "myFunction find = new myFunction();\n",
    "find.triangleArea(2,2,2);"
   ]
  },
  {
   "cell_type": "code",
   "execution_count": 11,
   "id": "6bc9800a",
   "metadata": {},
   "outputs": [
    {
     "name": "stdout",
     "output_type": "stream",
     "text": [
      "Input 5 elements in the array\r\n"
     ]
    },
    {
     "ename": "Error",
     "evalue": "System.NullReferenceException: Object reference not set to an instance of an object.\r\n   at Submission#13.<<Initialize>>d__0.MoveNext()\r\n--- End of stack trace from previous location ---\r\n   at Microsoft.CodeAnalysis.Scripting.ScriptExecutionState.RunSubmissionsAsync[TResult](ImmutableArray`1 precedingExecutors, Func`2 currentExecutor, StrongBox`1 exceptionHolderOpt, Func`2 catchExceptionOpt, CancellationToken cancellationToken)",
     "output_type": "error",
     "traceback": [
      "System.NullReferenceException: Object reference not set to an instance of an object.\r\n   at Submission#13.<<Initialize>>d__0.MoveNext()\r\n--- End of stack trace from previous location ---\r\n   at Microsoft.CodeAnalysis.Scripting.ScriptExecutionState.RunSubmissionsAsync[TResult](ImmutableArray`1 precedingExecutors, Func`2 currentExecutor, StrongBox`1 exceptionHolderOpt, Func`2 catchExceptionOpt, CancellationToken cancellationToken)",
      "   at Submission#13.<<Initialize>>d__0.MoveNext()",
      "--- End of stack trace from previous location ---",
      "   at Microsoft.CodeAnalysis.Scripting.ScriptExecutionState.RunSubmissionsAsync[TResult](ImmutableArray`1 precedingExecutors, Func`2 currentExecutor, StrongBox`1 exceptionHolderOpt, Func`2 catchExceptionOpt, CancellationToken cancellationToken)"
     ]
    }
   ],
   "source": [
    "//Question 4\n",
    "\n",
    "//Console.Write(\"Input the number of elements to be stored in the array: \");\n",
    "//length = Convert.ToInt32(Console.ReadLine());\n",
    "\n",
    "int length = 5;\n",
    "int i, e=0, o=0;\n",
    "int[] even;\n",
    "int[] odd;\n",
    "//for (int i=0; i < arr.Length; i++)\n",
    "//{\n",
    "//    Console.WriteLine(\"element {0}: \", i);\n",
    "//    arr[i] = Console.ReadLine();\n",
    "\n",
    "int[] arr = new int[length];\n",
    "arr[0] = 25;\n",
    "arr[1] = 47;\n",
    "arr[2] = 42;\n",
    "arr[3] = 56;\n",
    "arr[4] = 32;\n",
    "\n",
    "Console.WriteLine(\"Input {0} elements in the array\", length);\n",
    "for (int i=0; i < length; i++)\n",
    "{\n",
    "    if (arr[i]%2 == 0) {\n",
    "        even[e] = arr[i];\n",
    "        e++;\n",
    "    }\n",
    "    \n",
    "    else {\n",
    "        odd[o] = arr[i];\n",
    "        o++;\n",
    "    }      \n",
    "}\n",
    "\n",
    "Console.WriteLine(\"Expected Output\");\n",
    "Console.WriteLine(\"The even elements are:\");\n",
    "for (i=0; i<e; i++) {\n",
    "    Console.Write(\"{0} \", even[i]);\n",
    "}\n",
    "\n",
    "Console.WriteLine(\"The even elements are:\");\n",
    "for (i=0; i<o; i++) {\n",
    "    Console.Write(\"{0} \", odd[o]);\n",
    "}\n",
    "\n"
   ]
  },
  {
   "cell_type": "code",
   "execution_count": 70,
   "id": "1935fb9c",
   "metadata": {},
   "outputs": [],
   "source": [
    "//Question 5\n",
    "using System;\n",
    "\n",
    "class myFunction\n",
    "{\n",
    "    public bool inside(double x, double y, double x1, double y1, double x2, double y2)\n",
    "    {\n",
    "        bool condition = true;\n",
    "        if (x>x1 && x<x2 && y>y1 && y<y2)\n",
    "        {\n",
    "            Console.WriteLine(\"true\");\n",
    "            condition = true;\n",
    "        }\n",
    "            \n",
    "        else\n",
    "        {\n",
    "            Console.WriteLine(\"false\");\n",
    "            condition = false;\n",
    "        }\n",
    "        \n",
    "        return condition;\n",
    "            \n",
    "    }\n",
    "}"
   ]
  },
  {
   "cell_type": "code",
   "execution_count": 71,
   "id": "e1b24769",
   "metadata": {},
   "outputs": [
    {
     "name": "stdout",
     "output_type": "stream",
     "text": [
      "true\n",
      "false\n"
     ]
    }
   ],
   "source": [
    "myFunction rectangle = new myFunction();\n",
    "rectangle.inside(1, 1, 0, 0, 2, 3);\n",
    "rectangle.inside(-1, -1, 0, 0, 2, 3);"
   ]
  },
  {
   "cell_type": "code",
   "execution_count": 72,
   "id": "cf1703f6",
   "metadata": {},
   "outputs": [
    {
     "name": "stdout",
     "output_type": "stream",
     "text": [
      "false\r\n"
     ]
    },
    {
     "data": {
      "text/html": [
       "<div class=\"dni-plaintext\">False</div>"
      ]
     },
     "execution_count": 72,
     "metadata": {},
     "output_type": "execute_result"
    }
   ],
   "source": [
    "rectangle.inside(1, 1, 0.3, 0.5, 1.1, 0.7) && rectangle.inside(1, 1, 0.5, 0.2, 1.1, 2)"
   ]
  },
  {
   "cell_type": "code",
   "execution_count": null,
   "id": "59b17eb0",
   "metadata": {},
   "outputs": [],
   "source": []
  }
 ],
 "metadata": {
  "kernelspec": {
   "display_name": ".NET (C#)",
   "language": "C#",
   "name": ".net-csharp"
  },
  "language_info": {
   "file_extension": ".cs",
   "mimetype": "text/x-csharp",
   "name": "C#",
   "pygments_lexer": "csharp",
   "version": "10.0"
  }
 },
 "nbformat": 4,
 "nbformat_minor": 5
}
